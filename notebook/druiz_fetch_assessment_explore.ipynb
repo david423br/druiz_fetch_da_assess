{
 "cells": [
  {
   "cell_type": "code",
   "execution_count": null,
   "id": "27331146-4936-432b-b8d2-9da2b801a2f4",
   "metadata": {},
   "outputs": [],
   "source": [
    "import pandas as pd"
   ]
  },
  {
   "cell_type": "code",
   "execution_count": null,
   "id": "ffc90466-9995-48ae-a1a1-e1b64ebe4e5e",
   "metadata": {},
   "outputs": [],
   "source": [
    "### Exercise:\n",
    "## First: explore the data\n",
    "## Review the unstructured csv files and answer the following questions with code that supports your conclusions:\n",
    "# - Are there any data quality issues present?\n",
    "# - Are there any fields that are challenging to understand?\n",
    "## We recommend using SQL or python and data visualization to examine the data."
   ]
  },
  {
   "cell_type": "code",
   "execution_count": null,
   "id": "0feae3ab-24e1-4ac1-8f81-fb3b10635434",
   "metadata": {},
   "outputs": [],
   "source": [
    "## Import Products CSV - Exploration\n",
    "\n",
    "products_df = pd.read_csv('../data/PRODUCTS_TAKEHOME.csv')"
   ]
  },
  {
   "cell_type": "code",
   "execution_count": null,
   "id": "e9b7ad07-7a23-48a1-982e-a84670521205",
   "metadata": {},
   "outputs": [],
   "source": [
    "## Observation: Some category columns contain NaN, though this doesn't seem to conflict with any of the Open or Closed-ended questions.\n",
    "\n",
    "products_df"
   ]
  },
  {
   "cell_type": "code",
   "execution_count": null,
   "id": "019455bb-7a0d-43ff-b697-b33e1d00f753",
   "metadata": {},
   "outputs": [],
   "source": [
    "## Import Transaction CSV - Exploration\n",
    "\n",
    "transaction_df = pd.read_csv('../data/TRANSACTION_TAKEHOME.csv')"
   ]
  },
  {
   "cell_type": "code",
   "execution_count": null,
   "id": "1bfb9187-2ef6-4b45-a5ef-466d13018dba",
   "metadata": {
    "scrolled": true
   },
   "outputs": [],
   "source": [
    "## Observation: RECEIPT_IDs appear in pairs per BARCODE. Per pair there is a row where FINAL_QUANTITY contains the word 'zero', or FINAL_SALE contains an empty cell.\n",
    "\n",
    "transaction_df.sort_values(by=['RECEIPT_ID'])"
   ]
  },
  {
   "cell_type": "code",
   "execution_count": null,
   "id": "125c92d3-59b1-448c-9b77-e6c7e211d7e7",
   "metadata": {
    "scrolled": true
   },
   "outputs": [],
   "source": [
    "## Validation: RECEIPT_ID counts are all 2+.\n",
    "\n",
    "transaction_df['DIST_RECEIPT_COUNT'] = transaction_df.groupby('RECEIPT_ID')['RECEIPT_ID'].transform('count')\n",
    "\n",
    "transaction_df"
   ]
  },
  {
   "cell_type": "code",
   "execution_count": null,
   "id": "0783bdb9-1a63-4be5-ac7d-da0252f4b436",
   "metadata": {},
   "outputs": [],
   "source": [
    "## Validation: No odd numbered DIST_RECEIPT_COUNTs.\n",
    "\n",
    "transaction_df.loc[transaction_df['DIST_RECEIPT_COUNT'].isin([1, 3, 5, 7, 9, 11, 13])]"
   ]
  },
  {
   "cell_type": "code",
   "execution_count": null,
   "id": "19934b7e-8f5f-4316-a69e-ec1f1c9ef685",
   "metadata": {},
   "outputs": [],
   "source": [
    "## Validation: Manually checked DIST_RECEIPT_COUNT evens -vs- odds, max DIST_RECEIPT_COUNT is 12, all DIST_RECEIPT_COUNTs are even (further validating my RECEIPT_ID pair per BARCODE assumption).\n",
    "\n",
    "transaction_df.loc[transaction_df['DIST_RECEIPT_COUNT'].isin([2, 4, 6, 8, 10, 12])]"
   ]
  },
  {
   "cell_type": "code",
   "execution_count": null,
   "id": "3b392296-b24b-45e0-8c72-745dd2408eaa",
   "metadata": {},
   "outputs": [],
   "source": [
    "## Assumption: Exclude duplicate RECEIPT_ID rows based on observation in cell 5 (FINAL_SALE with empty cells, FINAL_QUANTITY with 'zero').\n",
    "\n",
    "tran_clean_df = transaction_df.loc[(transaction_df['FINAL_SALE'] != \" \") & (transaction_df['FINAL_QUANTITY'] != \"zero\")]\n",
    "\n",
    "tran_clean_df"
   ]
  },
  {
   "cell_type": "code",
   "execution_count": null,
   "id": "b4cac954-e0dc-4428-853b-cb2b385abb7a",
   "metadata": {},
   "outputs": [],
   "source": [
    "## Import User CSV - Exploration\n",
    "\n",
    "user_df = pd.read_csv('../data/USER_TAKEHOME.csv')"
   ]
  },
  {
   "cell_type": "code",
   "execution_count": null,
   "id": "aa19b50a-18ee-44c7-a178-1e9d28ac4193",
   "metadata": {},
   "outputs": [],
   "source": [
    "## Observation: No data blockers for answering Closed-ended questions 1 and 2, or Open-ended questions 1 and 2.\n",
    "\n",
    "user_df"
   ]
  },
  {
   "cell_type": "code",
   "execution_count": null,
   "id": "a4bd6e78-e118-4d58-a685-b3af9d9054e7",
   "metadata": {},
   "outputs": [],
   "source": [
    "## Moving forward with these observations and assumptions, I will be answering my questions with PostgreSQL using PGAdmin."
   ]
  }
 ],
 "metadata": {
  "kernelspec": {
   "display_name": "Python 3 (ipykernel)",
   "language": "python",
   "name": "python3"
  },
  "language_info": {
   "codemirror_mode": {
    "name": "ipython",
    "version": 3
   },
   "file_extension": ".py",
   "mimetype": "text/x-python",
   "name": "python",
   "nbconvert_exporter": "python",
   "pygments_lexer": "ipython3",
   "version": "3.12.4"
  }
 },
 "nbformat": 4,
 "nbformat_minor": 5
}
